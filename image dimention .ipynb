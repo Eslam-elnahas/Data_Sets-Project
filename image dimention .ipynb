{
 "cells": [
  {
   "cell_type": "code",
   "execution_count": 17,
   "id": "561fc4d0-487b-40f2-86f2-a030ee03d95f",
   "metadata": {},
   "outputs": [
    {
     "name": "stdout",
     "output_type": "stream",
     "text": [
      "width: 1114\n",
      "height: 1115\n",
      "No.Channel: 26\n"
     ]
    }
   ],
   "source": [
    "import rasterio\n",
    "\n",
    "# تحميل الصورة\n",
    "image_path = \"C:/Users/Lenovo/Deep_satellite_imagery/Download images/tiles/Sent_1.tif\"  # استبدل هذا بالمسار الفعلي للصورة\n",
    "\n",
    "# قراءة الصورة باستخدام rasterio\n",
    "with rasterio.open(image_path) as src:\n",
    "    width = src.width\n",
    "    height = src.height\n",
    "    count = src.count  # عدد القنوات\n",
    "\n",
    "# عرض الأبعاد\n",
    "print(\"width:\", width)\n",
    "print(\"height:\", height)\n",
    "print(\"No.Channel:\", count)\n"
   ]
  },
  {
   "cell_type": "code",
   "execution_count": null,
   "id": "160920a3-54e6-4672-8ee9-cd3f872a926c",
   "metadata": {},
   "outputs": [],
   "source": []
  }
 ],
 "metadata": {
  "kernelspec": {
   "display_name": "Python 3 (ipykernel)",
   "language": "python",
   "name": "python3"
  },
  "language_info": {
   "codemirror_mode": {
    "name": "ipython",
    "version": 3
   },
   "file_extension": ".py",
   "mimetype": "text/x-python",
   "name": "python",
   "nbconvert_exporter": "python",
   "pygments_lexer": "ipython3",
   "version": "3.11.7"
  }
 },
 "nbformat": 4,
 "nbformat_minor": 5
}
