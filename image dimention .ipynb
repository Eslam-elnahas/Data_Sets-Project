{
 "cells": [
  {
   "cell_type": "code",
   "execution_count": 17,
   "id": "561fc4d0-487b-40f2-86f2-a030ee03d95f",
   "metadata": {},
   "outputs": [
    {
     "name": "stdout",
     "output_type": "stream",
     "text": [
      "width: 1114\n",
      "height: 1115\n",
      "No.Channel: 26\n"
     ]
    }
   ],
   "source": [
    "import rasterio\n",
    "\n",
    "# تحميل الصورة\n",
    "image_path = \"C:/Users/Lenovo/Deep_satellite_imagery/Download images/tiles/Sent_1.tif\"  # استبدل هذا بالمسار الفعلي للصورة\n",
    "\n",
    "# قراءة الصورة باستخدام rasterio\n",
    "with rasterio.open(image_path) as src:\n",
    "    width = src.width\n",
    "    height = src.height\n",
    "    count = src.count  # عدد القنوات\n",
    "\n",
    "# عرض الأبعاد\n",
    "print(\"width:\", width)\n",
    "print(\"height:\", height)\n",
    "print(\"No.Channel:\", count)\n"
   ]
  },
  {
   "cell_type": "code",
   "execution_count": 23,
   "id": "160920a3-54e6-4672-8ee9-cd3f872a926c",
   "metadata": {},
   "outputs": [
    {
     "name": "stdout",
     "output_type": "stream",
     "text": [
      "width: 1392\n",
      "height: 1392\n",
      "No.Channel: 26\n"
     ]
    }
   ],
   "source": [
    "import rasterio\n",
    "\n",
    "# تحميل الصورة\n",
    "image_path = \"C:/Users/Lenovo/Deep_satellite_imagery/Download images/tiles/Sentinel_1.tif\"  # استبدل هذا بالمسار الفعلي للصورة\n",
    "\n",
    "# قراءة الصورة باستخدام rasterio\n",
    "with rasterio.open(image_path) as src:\n",
    "    width = src.width\n",
    "    height = src.height\n",
    "    count = src.count  # عدد القنوات\n",
    "\n",
    "# عرض الأبعاد\n",
    "print(\"width:\", width)\n",
    "print(\"height:\", height)\n",
    "print(\"No.Channel:\", count)\n"
   ]
  },
  {
   "cell_type": "code",
   "execution_count": 1,
   "id": "ff3c737f-8698-4418-a8dd-74825969d911",
   "metadata": {},
   "outputs": [
    {
     "name": "stdout",
     "output_type": "stream",
     "text": [
      "width: 978\n",
      "height: 1132\n",
      "No.Channel: 3\n"
     ]
    }
   ],
   "source": [
    "import rasterio\n",
    "\n",
    "# تحميل الصورة\n",
    "image_path = \"C:/Users/Lenovo/Deep_satellite_imagery/Download images/visible_image.tif\"  # استبدل هذا بالمسار الفعلي للصورة\n",
    "\n",
    "# قراءة الصورة باستخدام rasterio\n",
    "with rasterio.open(image_path) as src:\n",
    "    width = src.width\n",
    "    height = src.height\n",
    "    count = src.count  # عدد القنوات\n",
    "\n",
    "# عرض الأبعاد\n",
    "print(\"width:\", width)\n",
    "print(\"height:\", height)\n",
    "print(\"No.Channel:\", count)\n"
   ]
  },
  {
   "cell_type": "code",
   "execution_count": 3,
   "id": "e8578e7e-6ce8-4662-ac7d-08177dd772ad",
   "metadata": {},
   "outputs": [
    {
     "name": "stdout",
     "output_type": "stream",
     "text": [
      "width: 978\n",
      "height: 1132\n",
      "No.Channel: 1\n"
     ]
    }
   ],
   "source": [
    "import rasterio\n",
    "\n",
    "# تحميل الصورة\n",
    "image_path = \"C:/Users/Lenovo/Deep_satellite_imagery/Download images/visible_image_1.B2.tif\"  # استبدل هذا بالمسار الفعلي للصورة\n",
    "\n",
    "# قراءة الصورة باستخدام rasterio\n",
    "with rasterio.open(image_path) as src:\n",
    "    width = src.width\n",
    "    height = src.height\n",
    "    count = src.count  # عدد القنوات\n",
    "\n",
    "# عرض الأبعاد\n",
    "print(\"width:\", width)\n",
    "print(\"height:\", height)\n",
    "print(\"No.Channel:\", count)\n"
   ]
  },
  {
   "cell_type": "code",
   "execution_count": null,
   "id": "71ef694b-04a7-441a-9e28-c53d1881d8e2",
   "metadata": {},
   "outputs": [],
   "source": []
  }
 ],
 "metadata": {
  "kernelspec": {
   "display_name": "Python 3 (ipykernel)",
   "language": "python",
   "name": "python3"
  },
  "language_info": {
   "codemirror_mode": {
    "name": "ipython",
    "version": 3
   },
   "file_extension": ".py",
   "mimetype": "text/x-python",
   "name": "python",
   "nbconvert_exporter": "python",
   "pygments_lexer": "ipython3",
   "version": "3.11.7"
  }
 },
 "nbformat": 4,
 "nbformat_minor": 5
}
