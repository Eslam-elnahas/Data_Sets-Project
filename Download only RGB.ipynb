{
 "cells": [
  {
   "cell_type": "code",
   "execution_count": 1,
   "id": "a1de65de-3db8-4352-94b6-6e601318a926",
   "metadata": {},
   "outputs": [
    {
     "data": {
      "application/vnd.jupyter.widget-view+json": {
       "model_id": "764b9da2206c47488f80a32a9d0d9af3",
       "version_major": 2,
       "version_minor": 0
      },
      "text/plain": [
       "Map(center=[0, 0], controls=(WidgetControl(options=['position', 'transparent_bg'], widget=SearchDataGUI(childr…"
      ]
     },
     "execution_count": 1,
     "metadata": {},
     "output_type": "execute_result"
    }
   ],
   "source": [
    "import geemap\n",
    "import ee\n",
    "\n",
    "# تأكد من أنك متصل بـ Google Earth Engine\n",
    "ee.Authenticate()\n",
    "ee.Initialize(project='ee-eslamelnahas-jupyter')\n",
    "\n",
    "# حدد مجموعة بيانات Sentinel-2 أو أي مجموعة تحتوي على النطاقات المرئية\n",
    "image = ee.ImageCollection(\"COPERNICUS/S2_SR_HARMONIZED\") \\\n",
    "    .filterDate(\"2022-01-01\", \"2022-12-31\") \\\n",
    "    .filterBounds(ee.Geometry.BBox(30.45, 31.35, 30.55, 31.25)) \\\n",
    "    .filter(ee.Filter.lt(\"CLOUDY_PIXEL_PERCENTAGE\", 10)) \\\n",
    "    .first()\n",
    "\n",
    "# اختر النطاقات المرئية (عادةً B4: الأحمر، B3: الأخضر، B2: الأزرق)\n",
    "visible_image = image.select([\"B4\", \"B3\", \"B2\"])\n",
    "\n",
    "visualization = {\n",
    "    'min': 0.0,\n",
    "    'max': 3000,\n",
    "    'bands': ['B4', 'B3', 'B2'],\n",
    "}\n",
    "\n",
    "# حدد منطقة الاهتمام ودقة الصورة\n",
    "region = ee.Geometry.BBox(30.45, 31.35, 30.55, 31.25)\n",
    "scale = 5  # الدقة المطلوبة بالمتر\n",
    "m = geemap.Map()\n",
    "m.centerObject(region)\n",
    "m.add_layer(visible_image,visualization, 'RGB')\n",
    "m\n",
    "\n"
   ]
  },
  {
   "cell_type": "code",
   "execution_count": 2,
   "id": "acc7d5e2-3f0a-49bf-b9f3-c32abf3f0ac5",
   "metadata": {},
   "outputs": [
    {
     "data": {
      "text/html": [
       "\n",
       "            <style>\n",
       "                .geemap-dark {\n",
       "                    --jp-widgets-color: white;\n",
       "                    --jp-widgets-label-color: white;\n",
       "                    --jp-ui-font-color1: white;\n",
       "                    --jp-layout-color2: #454545;\n",
       "                    background-color: #383838;\n",
       "                }\n",
       "\n",
       "                .geemap-dark .jupyter-button {\n",
       "                    --jp-layout-color3: #383838;\n",
       "                }\n",
       "\n",
       "                .geemap-colab {\n",
       "                    background-color: var(--colab-primary-surface-color, white);\n",
       "                }\n",
       "\n",
       "                .geemap-colab .jupyter-button {\n",
       "                    --jp-layout-color3: var(--colab-primary-surface-color, white);\n",
       "                }\n",
       "            </style>\n",
       "            "
      ],
      "text/plain": [
       "<IPython.core.display.HTML object>"
      ]
     },
     "metadata": {},
     "output_type": "display_data"
    }
   ],
   "source": [
    "region = ee.Geometry.BBox(30.45, 31.35, 30.55, 31.25)\n",
    "m.centerObject(region)"
   ]
  },
  {
   "cell_type": "code",
   "execution_count": 3,
   "id": "e9727db6-7338-41a9-8fd3-3cd72f2fd30f",
   "metadata": {},
   "outputs": [
    {
     "data": {
      "text/html": [
       "\n",
       "            <style>\n",
       "                .geemap-dark {\n",
       "                    --jp-widgets-color: white;\n",
       "                    --jp-widgets-label-color: white;\n",
       "                    --jp-ui-font-color1: white;\n",
       "                    --jp-layout-color2: #454545;\n",
       "                    background-color: #383838;\n",
       "                }\n",
       "\n",
       "                .geemap-dark .jupyter-button {\n",
       "                    --jp-layout-color3: #383838;\n",
       "                }\n",
       "\n",
       "                .geemap-colab {\n",
       "                    background-color: var(--colab-primary-surface-color, white);\n",
       "                }\n",
       "\n",
       "                .geemap-colab .jupyter-button {\n",
       "                    --jp-layout-color3: var(--colab-primary-surface-color, white);\n",
       "                }\n",
       "            </style>\n",
       "            "
      ],
      "text/plain": [
       "<IPython.core.display.HTML object>"
      ]
     },
     "metadata": {},
     "output_type": "display_data"
    }
   ],
   "source": [
    "features = geemap.fishnet(region,h_interval=0.05, v_interval=0.05,delta=1.0)\n",
    "m.addLayer(features, {}, \"Grids\")"
   ]
  },
  {
   "cell_type": "code",
   "execution_count": 4,
   "id": "6937abfa-7170-4a1c-8561-59691a2e2249",
   "metadata": {},
   "outputs": [
    {
     "data": {
      "text/html": [
       "\n",
       "            <style>\n",
       "                .geemap-dark {\n",
       "                    --jp-widgets-color: white;\n",
       "                    --jp-widgets-label-color: white;\n",
       "                    --jp-ui-font-color1: white;\n",
       "                    --jp-layout-color2: #454545;\n",
       "                    background-color: #383838;\n",
       "                }\n",
       "\n",
       "                .geemap-dark .jupyter-button {\n",
       "                    --jp-layout-color3: #383838;\n",
       "                }\n",
       "\n",
       "                .geemap-colab {\n",
       "                    background-color: var(--colab-primary-surface-color, white);\n",
       "                }\n",
       "\n",
       "                .geemap-colab .jupyter-button {\n",
       "                    --jp-layout-color3: var(--colab-primary-surface-color, white);\n",
       "                }\n",
       "            </style>\n",
       "            "
      ],
      "text/plain": [
       "<IPython.core.display.HTML object>"
      ]
     },
     "metadata": {},
     "output_type": "display_data"
    },
    {
     "name": "stdout",
     "output_type": "stream",
     "text": [
      "Generating URL ...\n",
      "Downloading data from https://earthengine.googleapis.com/v1/projects/ee-eslamelnahas-jupyter/thumbnails/dd5ef7a3c095a62706c41bb2d064e423-37de2d7307d17f306d08d963eca270ec:getPixels\n",
      "Please wait ...\n",
      "Data downloaded to C:\\Users\\Lenovo\\Deep_satellite_imagery\\Download images\\visible_image_2.tif\n",
      "تم تصدير الصورة بنجاح كملف: visible_image_2.tif\n"
     ]
    }
   ],
   "source": [
    "# استخدم ee_export_image لتصدير الصورة مع النطاقات المرئية فقط\n",
    "filename = \"visible_image_2.tif\"\n",
    "geemap.ee_export_image(\n",
    "    ee_object=visible_image,\n",
    "    filename=filename,\n",
    "    scale=scale,\n",
    "    region=region,\n",
    "    file_per_band=False\n",
    ")\n",
    "\n",
    "print(f\"تم تصدير الصورة بنجاح كملف: {filename}\")"
   ]
  },
  {
   "cell_type": "code",
   "execution_count": null,
   "id": "09ae8262-5d20-4b16-876e-3eb2aa82fa5e",
   "metadata": {},
   "outputs": [],
   "source": []
  }
 ],
 "metadata": {
  "kernelspec": {
   "display_name": "Python 3 (ipykernel)",
   "language": "python",
   "name": "python3"
  },
  "language_info": {
   "codemirror_mode": {
    "name": "ipython",
    "version": 3
   },
   "file_extension": ".py",
   "mimetype": "text/x-python",
   "name": "python",
   "nbconvert_exporter": "python",
   "pygments_lexer": "ipython3",
   "version": "3.11.7"
  }
 },
 "nbformat": 4,
 "nbformat_minor": 5
}
